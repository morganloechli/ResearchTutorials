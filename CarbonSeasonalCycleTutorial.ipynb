{
 "cells": [
  {
   "cell_type": "markdown",
   "id": "68d046ba-3339-4b1b-8e2b-f1269110438b",
   "metadata": {},
   "source": [
    "# Carbon Seasonal Cycle Tutorial\n",
    "The purpose of this tutorial is to demonstrate three methods of calculating the carbon seasonal cycle using atmospheric carbon dioxide observations. You will compare your results against known results for Park Falls, Wisconsin to confirm that you have implemented each method correctly. All three methods are commonly used, so it is up to you to choose the best method for your project."
   ]
  },
  {
   "cell_type": "markdown",
   "id": "d2372d3f-59d9-41f3-87bc-89eb3478a78b",
   "metadata": {},
   "source": [
    "## Option 1: Rolling average\n",
    "When I was first tasked with creating a seasonal cycle, I did a Google search and came across this tutorial: https://datalab.marine.rutgers.edu/2020/03/modeling-seasonal-data/. The purpose is to use simple data analysis techniques to model a seasonal dataset. The notebook cells below will lead you through the creation of a test dataset that is comprised of a sinusoidal seasonal cycle, an increasing long-term trend, and random noise. This is a decent representation of atmospheric carbon dioxide (CO$_2$) observations. This dataset will then be used to show how you can model the long-term trend and seasonal cycle.\n",
    "Once you feel comfortable doing this with the test data, you will implement the same method using real CO$_2$ observations for a carbon observing site in Park Falls, Wisconsin."
   ]
  },
  {
   "cell_type": "markdown",
   "id": "46e31b45-4dd6-44c7-b674-ee1e17d181f8",
   "metadata": {},
   "source": [
    "### Setup Notebook"
   ]
  },
  {
   "cell_type": "code",
   "execution_count": null,
   "id": "fd67cf17-3146-4066-b2e5-1d4b6aa720cc",
   "metadata": {},
   "outputs": [],
   "source": [
    "# Import necessary libraries and packages\n",
    "\n",
    "# Data Manipulation\n",
    "import numpy as np\n",
    "import pandas as pd\n",
    "import xarray as xr\n",
    "\n",
    "# Data Visualization\n",
    "import matplotlib.pyplot as plt"
   ]
  },
  {
   "cell_type": "markdown",
   "id": "3d7e19e7-e5ee-4942-a7d9-a35e1df936cf",
   "metadata": {},
   "source": [
    "### Creating a Test Dataset"
   ]
  },
  {
   "cell_type": "code",
   "execution_count": null,
   "id": "5938e312-45b2-402f-bee9-a994c0d582fd",
   "metadata": {},
   "outputs": [],
   "source": [
    "# Initialize a 5-year timeseries dataset\n",
    "df = pd.DataFrame(index=pd.date_range('2020-01-01','2025-01-01'))\n",
    "df"
   ]
  },
  {
   "cell_type": "code",
   "execution_count": null,
   "id": "899cbb0a-2669-4f51-a962-a60b48bcb169",
   "metadata": {},
   "outputs": [],
   "source": [
    "# Generate an annual seasonal cycle using a cosine function\n",
    "mean = 5\n",
    "offset = 10\n",
    "df['y1'] = np.cos(df.index.dayofyear/365*2*np.pi - np.pi)*mean + offset\n",
    "df"
   ]
  },
  {
   "cell_type": "code",
   "execution_count": null,
   "id": "2b0a9428-8354-43ed-aeb5-b2273dd92f83",
   "metadata": {},
   "outputs": [],
   "source": [
    "# Plot data to check that it looks as expected\n",
    "df['y1'].plot()\n",
    "plt.grid()\n",
    "plt.show()"
   ]
  },
  {
   "cell_type": "code",
   "execution_count": null,
   "id": "602f8637-9b97-432b-a9f4-764762deb1a1",
   "metadata": {},
   "outputs": [],
   "source": [
    "# Add a trend to the data\n",
    "trend = 5\n",
    "df['y2'] = df['y1'] + trend*np.arange(0,df.shape[0])/df.shape[0]\n",
    "df"
   ]
  },
  {
   "cell_type": "code",
   "execution_count": null,
   "id": "8daef1f4-f739-4e65-ae6c-e3235cd8f3a6",
   "metadata": {},
   "outputs": [],
   "source": [
    "# Plot data to check that it looks as expected\n",
    "df.plot()\n",
    "plt.grid()\n",
    "plt.show()"
   ]
  },
  {
   "cell_type": "code",
   "execution_count": null,
   "id": "cd8c62b4-f752-4e4d-a9fc-a773be74b79f",
   "metadata": {},
   "outputs": [],
   "source": [
    "# Add random noise to the data\n",
    "noise_mean = 0\n",
    "noise_var = 2\n",
    "df['y3'] = df['y2'] + np.random.normal(noise_mean, noise_var, df.shape[0])\n",
    "df"
   ]
  },
  {
   "cell_type": "code",
   "execution_count": null,
   "id": "bac19ca4-55a1-4ab4-8aa2-2eacb222ef6d",
   "metadata": {},
   "outputs": [],
   "source": [
    "# Plot data to check that it looks as expected\n",
    "df['y3'].plot(marker='.', markersize=2, linestyle='')\n",
    "plt.title('Test Seasonal Dataset with Trend')\n",
    "plt.grid()\n",
    "plt.show()"
   ]
  },
  {
   "cell_type": "markdown",
   "id": "20d6bea4-c0ea-4d22-b96b-f9bc75857cbe",
   "metadata": {},
   "source": [
    "### Detrending Data\n",
    "The seasonal dataset you have created is now a decent representation of what atmospheric CO$_2$ observations look like. We will not reverse the process to extract the long-term trend and seasonal cycle.\n",
    "The first step of getting a seasonal cycle will often be to detrend your dataset. This models, then removes the long-term trend, making it easier to see and analyze changes that occur on shorter timescales. On short timescales (about 2 decades or less) the increase in atmospheric CO$_2$ will be roughly linear. Therefore, fitting a linear model of the form\n",
    "\n",
    "$y = mx + b$\n",
    "\n",
    "to the data will model the long-term trend, which can then be removed.\n",
    "There are many ways to do this, but we will use the numpy.polyfit() function. The function will fit a polynomial or given order to the input dataset and returns the coefficient. The first element is the slope and the second is the y-intercept."
   ]
  },
  {
   "cell_type": "code",
   "execution_count": null,
   "id": "29e880c6-b9b3-4694-8c62-56fcee10954a",
   "metadata": {},
   "outputs": [],
   "source": [
    "# Fit a linear trend\n",
    "df2 = df.reset_index() # This process doesn't work for time indexes, so we need to reset\n",
    "coeff = np.polyfit(df2.index,df2.y3,deg=1)\n",
    "\n",
    "print('Slope (m): %f' % coeff[0])\n",
    "print('Intercept (b): %f' % coeff[1])"
   ]
  },
  {
   "cell_type": "code",
   "execution_count": null,
   "id": "5ce50da5-e308-4edc-b2fb-a102b5041825",
   "metadata": {},
   "outputs": [],
   "source": [
    "# Check that the result makes sense by calculating annual increase\n",
    "# The trend we added increased by 5 over 5 years, or about 1 per year, so the result should be about 1\n",
    "print('Annual Increase: %f' % (coeff[0]*365))\n",
    "\n",
    "# Add the modeled trend to our dataset\n",
    "model = np.poly1d(coeff)\n",
    "df['trend'] = model(df2.index)\n",
    "df"
   ]
  },
  {
   "cell_type": "code",
   "execution_count": null,
   "id": "1f7a4c3d-4a74-45ec-a013-984105f65c93",
   "metadata": {},
   "outputs": [],
   "source": [
    "# Plot data to check that it looks as expected\n",
    "df['y3'].plot(marker='.', markersize='2', linestyle='', label='Raw Data')\n",
    "df['trend'].plot(label='Linear Trend')\n",
    "plt.grid()\n",
    "plt.legend()\n",
    "plt.show()"
   ]
  },
  {
   "cell_type": "code",
   "execution_count": null,
   "id": "0246c67f-bfa6-4121-8f41-60ba23603d68",
   "metadata": {},
   "outputs": [],
   "source": [
    "# Remove the trend\n",
    "df['deseasonalized'] = df['y3'] - df['trend']\n",
    "df"
   ]
  },
  {
   "cell_type": "code",
   "execution_count": null,
   "id": "910892b8-6118-4349-a37c-9adf3649b0df",
   "metadata": {},
   "outputs": [],
   "source": [
    "# Plot data to check that it looks as expected\n",
    "df['deseasonalized'].plot(marker='.', markersize='2', linestyle='')\n",
    "plt.grid()\n",
    "plt.show()"
   ]
  },
  {
   "cell_type": "markdown",
   "id": "afa3e9e2-220b-4fdc-b207-4442d745ea20",
   "metadata": {},
   "source": [
    "### Modeling the Seasonal Cycle\n",
    "There are many ways to model periodic processes like the seasonal cycle. Here, we will assume that we know nothing about the process leading to seasonality, only that it repeats annually. We will model the seasonality by calculating the expected value for each day of the year."
   ]
  },
  {
   "cell_type": "code",
   "execution_count": null,
   "id": "6880a044-2047-4637-83ee-5e95487d7fb3",
   "metadata": {},
   "outputs": [],
   "source": [
    "# Add a day of the year column to dataset\n",
    "df['yearday'] = df.index.dayofyear\n",
    "df"
   ]
  },
  {
   "cell_type": "code",
   "execution_count": null,
   "id": "4e82e85e-2a1d-4f38-ba54-1e4c6c1b08cb",
   "metadata": {},
   "outputs": [],
   "source": [
    "# Plot data to check that it looks as expected\n",
    "plt.plot(df.yearday, df.deseasonalized, marker='.', markersize=2, linestyle='')\n",
    "plt.xlabel('Day of Year')\n",
    "plt.grid()\n",
    "plt.show()"
   ]
  },
  {
   "cell_type": "code",
   "execution_count": null,
   "id": "9278602a-1e0e-4c81-a6a3-0829fae4cf7d",
   "metadata": {},
   "outputs": [],
   "source": [
    "# Calculate seasonal cycles\n",
    "yr = df.deseasonalized.groupby(df.yearday).mean()\n",
    "yr.plot(label='1-day average')\n",
    "\n",
    "yr7 = yr.rolling(7, center=True, min_periods=4).mean()\n",
    "yr7.plot(label='7-day average')\n",
    "\n",
    "yr30 = yr.rolling(30, center=True, min_periods=15).mean()\n",
    "yr30.plot(label='30-day average')\n",
    "plt.legend()\n",
    "plt.xlabel('Day of Year')\n",
    "plt.grid()\n",
    "plt.show()"
   ]
  },
  {
   "cell_type": "code",
   "execution_count": null,
   "id": "21e54070-b695-4b15-b6f3-5709cefea550",
   "metadata": {},
   "outputs": [],
   "source": [
    "# Create seasonal model\n",
    "df['seasonal'] = yr30[df.yearday].values\n",
    "df"
   ]
  },
  {
   "cell_type": "code",
   "execution_count": null,
   "id": "2131a0c5-a88c-423a-86e3-1b5adb7b02d7",
   "metadata": {},
   "outputs": [],
   "source": [
    "# Plot data to check that it looks as expected\n",
    "df['seasonal'].plot()\n",
    "plt.grid()\n",
    "plt.show()"
   ]
  },
  {
   "cell_type": "code",
   "execution_count": null,
   "id": "bd49d325-9455-4f83-88ca-5b2adf36fa15",
   "metadata": {},
   "outputs": [],
   "source": [
    "# Lastly, let's compare our model to our original dataset\n",
    "df['y3'].plot(label='Dataset', marker='.', markersize=2, linestyle='')\n",
    "(df['trend'] + df['seasonal']).plot(label='Model')\n",
    "plt.title('Measured and Modeled Seasonal Datasets')\n",
    "plt.legend()\n",
    "plt.grid()\n",
    "plt.show()"
   ]
  },
  {
   "cell_type": "markdown",
   "id": "8461488c-ccc3-45ef-8681-a8ae578e818b",
   "metadata": {},
   "source": [
    "### Repeat Using Real Observations\n",
    "Import data from Park Falls, Wisconsin and find the seasonal cycle. Most atmospheric CO$_2$ datasets are in the netCDF file format. This means that using xarray, rather than pandas can be beneficial when working with these datasets. You have the choice of converting your xarray DataSet into a pandas DataFrame and completing the tutorial as above, or making some slight variations so that you can work with the DataSet directly."
   ]
  },
  {
   "cell_type": "code",
   "execution_count": null,
   "id": "e0b9382c-f3ce-47fc-af92-b2779f178d30",
   "metadata": {},
   "outputs": [],
   "source": [
    "# Import Park Falls dataset\n",
    "pa_ds = xr.open_dataset('pa_co2.nc')\n",
    "pa_ds"
   ]
  },
  {
   "cell_type": "code",
   "execution_count": null,
   "id": "76adc245-a646-4fc3-971b-449ce4ea0598",
   "metadata": {},
   "outputs": [],
   "source": [
    "# Select only carbon dioxide data from full dataset\n",
    "pa_ds = pa_ds['xco2'].to_dataset(name='xco2')\n",
    "pa_ds"
   ]
  },
  {
   "cell_type": "code",
   "execution_count": null,
   "id": "db9939d4-dc8b-4642-a339-b3fafae92270",
   "metadata": {},
   "outputs": [],
   "source": [
    "# If desired, convert xarray DataArray to pandas DataFrame\n",
    "# The remaining tutorial will work with xarray, not pandas\n",
    "# Repeat the process above if you want to continue working with pandas instead\n",
    "pa_df = pa_ds.to_dataframe()\n",
    "pa_df"
   ]
  },
  {
   "cell_type": "code",
   "execution_count": null,
   "id": "97df07bd-725a-4d26-874e-85c1f8f0d073",
   "metadata": {},
   "outputs": [],
   "source": [
    "# Plot raw data\n",
    "pa_ds.xco2.plot(marker='.', markersize=2, linestyle='')\n",
    "plt.grid()\n",
    "plt.show()"
   ]
  },
  {
   "cell_type": "code",
   "execution_count": null,
   "id": "3b3f2d0b-a19c-4801-b48a-17d8f97c84c1",
   "metadata": {},
   "outputs": [],
   "source": [
    "# Fit a linear trend\n",
    "coeff = pa_ds.xco2.polyfit(dim='time',deg=1)\n",
    "\n",
    "print('Slope (m): %f' % coeff.polyfit_coefficients[0])\n",
    "print('Offset (b): %f' % coeff.polyfit_coefficients[1])\n",
    "\n",
    "# Model the trend\n",
    "model = xr.polyval(coord=pa_ds.time, coeffs=coeff.polyfit_coefficients)\n",
    "pa_ds['trend'] = model\n",
    "pa_ds"
   ]
  },
  {
   "cell_type": "code",
   "execution_count": null,
   "id": "2de580a3-2c78-44cc-9cfb-696e2bab8232",
   "metadata": {},
   "outputs": [],
   "source": [
    "# Plot raw data and modeled linear trend \n",
    "pa_ds.xco2.plot(marker='.', markersize=2, linestyle='', label='Raw Data')\n",
    "pa_ds.trend.plot(label='Linear Trend')\n",
    "plt.legend()\n",
    "plt.grid()\n",
    "plt.show()\n",
    "\n",
    "# Remove linear trend\n",
    "pa_ds['deseasonalized'] = pa_ds['xco2'] - model\n",
    "\n",
    "# Plot deseasonalized data\n",
    "pa_ds.deseasonalized.plot(marker='.', markersize=2, linestyle='')\n",
    "plt.grid()\n",
    "plt.show()"
   ]
  },
  {
   "cell_type": "code",
   "execution_count": null,
   "id": "a764e70f-24ca-44e1-ad9d-67ed4dfa4f26",
   "metadata": {},
   "outputs": [],
   "source": [
    "# Model the seasonal cycle\n",
    "pa_yr = pa_ds.deseasonalized.groupby(pa_ds.time.dt.dayofyear).mean()\n",
    "pa_yr.plot(label='1-day average')\n",
    "\n",
    "pa_yr7 = pa_yr.rolling(dayofyear=7, center=True, min_periods=4).mean()\n",
    "pa_yr7.plot(label='7-day average')\n",
    "\n",
    "pa_yr30 = pa_yr.rolling(dayofyear=30, center=True, min_periods=15).mean()\n",
    "pa_yr30.plot(label='30-day average')\n",
    "plt.legend()\n",
    "plt.grid()\n",
    "plt.show()\n",
    "\n",
    "# Add seasonal model to dataset\n",
    "doy = pa_ds.time.dt.dayofyear.to_series()\n",
    "yr30_s = pa_yr30.to_series()\n",
    "pa_ds['seasonal'] = ('time',yr30_s[doy].values)\n",
    "pa_ds"
   ]
  },
  {
   "cell_type": "code",
   "execution_count": null,
   "id": "6193cd42-4a77-45dd-aaf5-620b19d66a00",
   "metadata": {},
   "outputs": [],
   "source": [
    "# Plot seasonal data\n",
    "pa_ds.seasonal.plot(marker='.', markersize=2, linestyle='')\n",
    "plt.grid()\n",
    "plt.show()"
   ]
  },
  {
   "cell_type": "code",
   "execution_count": null,
   "id": "2b3724d2-6e04-4c6c-b328-f0c56272973c",
   "metadata": {},
   "outputs": [],
   "source": [
    "# Compare model to original dataset\n",
    "pa_ds['xco2'].plot(label='Dataset', marker='.', markersize=2, linestyle='')\n",
    "(pa_ds['trend'] + pa_ds['seasonal']).plot(label='Model')\n",
    "plt.title('Measured and Modeled Seasonal Datasets')\n",
    "plt.legend()\n",
    "plt.grid()\n",
    "plt.show()"
   ]
  },
  {
   "cell_type": "markdown",
   "id": "ac204fbd-09fe-4caa-aad0-93483ca9850d",
   "metadata": {},
   "source": [
    "## Option 2: STL\n",
    "I next moved to using STL to decompose data into a long-term trend and seasonal cycle. STL, or Seasonal-trend Decomposition using LOESS (locally estimated scatterplot smoothing) is a statistical method described at http://bit.ly/stl1990. STL provides a lot of benefit over other methods in that it can handle any time of seasonality, the seasonal component can change over time, the smoothness of the trend can be controlled by the user, and it is robust to outliers. However, it can only handle additive decompositions and can be a mystery if you don't understand the math because you will use a function rather than finding the trend and seasonal cycle yourself. We will use the STL function found in the statsmodels package"
   ]
  },
  {
   "cell_type": "markdown",
   "id": "70531b8c-da68-44db-8c70-f36053d6e08f",
   "metadata": {},
   "source": [
    "### Setup Notebook\n",
    "Most of the necessary imports were done above, so we will only add new things here"
   ]
  },
  {
   "cell_type": "code",
   "execution_count": null,
   "id": "0e205cfe-260d-4ec3-8d78-591fc1413644",
   "metadata": {},
   "outputs": [],
   "source": [
    "from statsmodels.tsa.seasonal import STL"
   ]
  },
  {
   "cell_type": "markdown",
   "id": "24250f6b-64f4-44ce-bffc-2a0404b66c2a",
   "metadata": {},
   "source": [
    "### Apply STL"
   ]
  },
  {
   "cell_type": "code",
   "execution_count": null,
   "id": "c2da67b0-cdea-4cd0-b755-be5944c19345",
   "metadata": {},
   "outputs": [],
   "source": [
    "# Apply STL to test dataset\n",
    "monthly = df['y3'].resample('ME').mean().ffill()\n",
    "stl = STL(monthly, period=12, seasonal=13)\n",
    "res = stl.fit()\n",
    "fig = res.plot()"
   ]
  },
  {
   "cell_type": "code",
   "execution_count": null,
   "id": "75a27a33-261a-4483-bcb9-074e81a79250",
   "metadata": {},
   "outputs": [],
   "source": [
    "# Compare raw data to model\n",
    "df['y3'].plot(marker='.', markersize=2, linestyle='', label='Raw Data')\n",
    "(res.trend + res.seasonal).plot(label='Model')\n",
    "plt.legend()\n",
    "plt.grid()\n",
    "plt.show()"
   ]
  },
  {
   "cell_type": "markdown",
   "id": "3efb09fe-b604-4a66-b8b2-c2e04f3e8ca5",
   "metadata": {},
   "source": [
    "### Repeat with Park Falls"
   ]
  },
  {
   "cell_type": "code",
   "execution_count": null,
   "id": "2a687445-e1e6-4612-a84d-06feb29d0f1b",
   "metadata": {},
   "outputs": [],
   "source": [
    "# Apply STL to dataset\n",
    "pa_ds = pa_ds.sortby('time')\n",
    "pa_monthly = pa_ds.xco2.resample(time='ME').mean().ffill(dim='time').to_series()\n",
    "pa_stl = STL(pa_monthly, period=12, seasonal=13, robust=True)\n",
    "pa_res = pa_stl.fit()\n",
    "pa_fig = pa_res.plot()"
   ]
  },
  {
   "cell_type": "code",
   "execution_count": null,
   "id": "81d367c6-72d8-4295-a220-a0ba9511955b",
   "metadata": {},
   "outputs": [],
   "source": [
    "# Compare raw data to model\n",
    "pa_ds.xco2.plot(marker='.', markersize=2, linestyle='', label='Raw Data')\n",
    "(pa_res.trend + pa_res.seasonal).plot(label='Model')\n",
    "plt.legend()\n",
    "plt.grid()\n",
    "plt.show()"
   ]
  },
  {
   "cell_type": "markdown",
   "id": "9bbc599c-1bde-4338-b76b-4d743e91d17b",
   "metadata": {},
   "source": [
    "## Option 3: Hamonic Fit\n",
    "Most recently, I've moved to fitting a harmonic to the dataset, removing the long-term trend, and finding the seasonal cycle of the fit. In the previous two methods, we assumed that there was some periodicity to the data, but we didn't know the processes that led to that periodicity. However, we do know that the periodic nature of the data is largely related to photosynthesis and respiration and that the seasonal cycle can almost always be well fit by a skew harmonic function, so it is beneficial to use that function to start with."
   ]
  },
  {
   "cell_type": "markdown",
   "id": "02f0c2f5-8c1d-49e1-8765-0e7dd4bcb3ed",
   "metadata": {},
   "source": [
    "### Setup Notebook\n",
    "Import libraries and packages needed here that have not been previously imported"
   ]
  },
  {
   "cell_type": "code",
   "execution_count": null,
   "id": "0404b409-7fd7-4f98-8777-dbdeee7405c2",
   "metadata": {},
   "outputs": [],
   "source": [
    "import matplotlib.dates as mdates\n",
    "from scipy.optimize import leastsq"
   ]
  },
  {
   "cell_type": "markdown",
   "id": "54026fb2-d904-4882-a131-16b0c6f38771",
   "metadata": {},
   "source": [
    "### Define Functions for Fitting"
   ]
  },
  {
   "cell_type": "code",
   "execution_count": null,
   "id": "63236ff7-741f-4be3-bcb3-5d53e3bd1a43",
   "metadata": {},
   "outputs": [],
   "source": [
    "# Define function to fit a harmonic to the data\n",
    "def fit_harm(data): \n",
    "    p0 = [250, 0.006, -4, -111, 0.7, -290]\n",
    "    monthvals = mdates.date2num(data['time']) - 1970 * 365\n",
    "    errfunc = lambda p, t, y: fit_function(p, t) - y\n",
    "    p2, success = leastsq(errfunc, p0[:], args=(monthvals, data['xco2']))\n",
    "    if success != 1 & success != 2 & success != 3 & success != 4:\n",
    "        print('The fit was unsuccessful')\n",
    "        print(success)\n",
    "    return p2\n",
    "\n",
    "# Function that is fit to the data\n",
    "fit_function = lambda p,t: p[0] + p[1]*t + p[2]*np.sin((2*np.pi/365)*(t-p[3])+np.arccos(p[4]*np.cos((2*np.pi/365)*t-p[5])))\n",
    "p0 = [ 2.85711733e+02,  6.77853118e-03,  3.59468633e+00, -1.75291954e+02, -5.50459245e-01, -2.94022555e+02]"
   ]
  },
  {
   "cell_type": "markdown",
   "id": "2f7b4406-5937-49ee-b351-3a2fda1f1a9f",
   "metadata": {},
   "source": [
    "### Apply Functions to Data"
   ]
  },
  {
   "cell_type": "code",
   "execution_count": null,
   "id": "867ba6f1-f6e9-4ce2-8a60-290e6747c6a2",
   "metadata": {},
   "outputs": [],
   "source": [
    "# Reset index and rename column to work with function\n",
    "df = df.reset_index()\n",
    "df = df.rename(columns={'index':'time','y3':'xco2'})\n",
    "df"
   ]
  },
  {
   "cell_type": "code",
   "execution_count": null,
   "id": "a341fc77-34a6-4662-bb69-e9867498c20d",
   "metadata": {},
   "outputs": [],
   "source": [
    "# Apply function to get coefficients that result in the best fit\n",
    "p2 = fit_harm(df)\n",
    "p2"
   ]
  },
  {
   "cell_type": "code",
   "execution_count": null,
   "id": "3a4740bf-0a6e-48c8-af3b-e61f2fe5ceca",
   "metadata": {},
   "outputs": [],
   "source": [
    "# Create model using coefficients\n",
    "date_range = pd.date_range(start=df['time'].iloc[0], end=df['time'].iloc[-1], freq='D')\n",
    "fit = fit_function(p2, mdates.date2num(date_range) - 1970 * 365)\n",
    "\n",
    "# Plot model and raw data to compare\n",
    "plt.plot(df.time, df.xco2, marker='.', markersize=2, linestyle='', label='Raw Data')\n",
    "plt.plot(date_range, fit, marker='.', markersize=2, linestyle='', label='Model')\n",
    "plt.legend()\n",
    "plt.grid()\n",
    "plt.show()"
   ]
  },
  {
   "cell_type": "markdown",
   "id": "22672551-ebe1-41a8-9b6f-e9615447e82b",
   "metadata": {},
   "source": [
    "### Repeat for Park Falls"
   ]
  },
  {
   "cell_type": "code",
   "execution_count": null,
   "id": "17c58424-2af9-417c-a7dc-c78f76862e82",
   "metadata": {},
   "outputs": [],
   "source": [
    "# Apply function to get coefficients that result in the best fit\n",
    "pa_p2 = fit_harm(pa_ds)\n",
    "pa_p2"
   ]
  },
  {
   "cell_type": "code",
   "execution_count": null,
   "id": "369a397a-aa27-41e1-ad5c-4519420a8b63",
   "metadata": {},
   "outputs": [],
   "source": [
    "# Create model using coefficients\n",
    "pa_date_range = pd.date_range(start=pa_ds['time'][0].item(), end=pa_ds['time'][-1].item(), freq='D')\n",
    "pa_fit = fit_function(pa_p2, mdates.date2num(pa_date_range) - 1970 * 365)\n",
    "\n",
    "# Plot model and raw data to compare\n",
    "plt.plot(pa_ds.time, pa_ds.xco2, marker='.', markersize=2, linestyle='', label='Raw Data')\n",
    "plt.plot(pa_date_range, pa_fit, marker='.', markersize=2, linestyle='', label='Model')\n",
    "plt.legend()\n",
    "plt.grid()\n",
    "plt.show()"
   ]
  },
  {
   "cell_type": "markdown",
   "id": "e63c80b9-b3a6-4ab8-954e-450e0fc7fcfd",
   "metadata": {},
   "source": [
    "At this point, you can apply any detrending method you like to find the seasonal cycle. In addition to the methods share above, I've also used Mauna Loa data to detrend. The CO$_2$ observing station at Mauna Loa, Hawaii, is one of the longest-running and is thought to be representative of the entire Northern Hemisphere. In my work, I have always either fit a line to the Mauna Loa data or applied STL to the Mauna Loa data in order to get the trend that is then removed from the dataset. This means that I always remove the same increasing trend, regardless of dataset. I've chosen not to include Mauna Loa detrending in this tutorial because the Mauna Loa dataset required a lot of processing before it can be compatible with the datasets we will be using. If you have extra time or are just intrested in using Mauna Loa data to detrend, please reach out so that I can share some functions I have written that detrends using Mauna Loa."
   ]
  },
  {
   "cell_type": "markdown",
   "id": "9e780391-6c4d-4c39-a55d-c82da9bdf3d9",
   "metadata": {},
   "source": [
    "## Putting it all Together\n",
    "Let's now compare all three options to see which model we like the best. Plot all models against the raw data on the same plot."
   ]
  },
  {
   "cell_type": "code",
   "execution_count": null,
   "id": "877d8c7d-25aa-4071-a334-9bb400c8bdd3",
   "metadata": {},
   "outputs": [],
   "source": [
    "# Plot test data\n",
    "plt.plot(df.time, df.xco2, marker='.', markersize=2, linestyle='', label='Raw Data')\n",
    "plt.plot(df.time, (df.trend + df.seasonal), label='Rolling Average')\n",
    "plt.plot(res.trend.index, (res.trend + res.seasonal), label='STL')\n",
    "plt.plot(date_range, fit, label='Harmonic Fit')\n",
    "plt.legend()\n",
    "plt.title('Test Dataset')\n",
    "plt.grid()\n",
    "plt.show()"
   ]
  },
  {
   "cell_type": "code",
   "execution_count": null,
   "id": "b5de3938-a47f-46f2-b0b7-c7717865e4b0",
   "metadata": {},
   "outputs": [],
   "source": [
    "# Plot Park Falls data\n",
    "pa_ds.xco2.plot(marker='.', markersize=2, linestyle='', label='Raw Data')\n",
    "(pa_ds['trend'] + pa_ds['seasonal']).plot(label='Rolling Average')\n",
    "plt.plot(pa_res.trend.index, (pa_res.trend + pa_res.seasonal), label='STL')\n",
    "plt.plot(pa_date_range, pa_fit, label='Harmonic Fit')\n",
    "plt.legend()\n",
    "plt.title('Park Falls')\n",
    "plt.grid()\n",
    "plt.show()"
   ]
  },
  {
   "cell_type": "markdown",
   "id": "79d04964-a090-4339-ba3a-8e2b3aa8474a",
   "metadata": {},
   "source": [
    "Check that your result matches mine!\n",
    "\n",
    "\n",
    "<img src=\"ParkFallsSeasonal.png\">\n",
    "\n",
    "Now, let's look at the mean seasonal cycle and the seasonal cycle amplitude (SCA) which is typically defined to be the maximum value minus the minimum value of the seasonal cycle. You should get an SCA value for Park Falls of about 9.07 ppm when taking a rolling average, 7.15 ppm when using STL, and 9.23 ppm when fitting a harmonic. In my experience, when I've used STL, I always have to fit a harmonic to the seasonal cycle in order to get anything useful. If you decide to move forward with using STL, you should plan to fit a harmonic to the seasonal cycle."
   ]
  },
  {
   "cell_type": "code",
   "execution_count": null,
   "id": "5ff0312c-f7fe-4c3c-a2cc-a641052f02fd",
   "metadata": {},
   "outputs": [],
   "source": [
    "# Create dataframe holding detrended harmonic fit data to make it easier to find the mean seasonal cycle\n",
    "pa_fit_detrended = pa_fit - (pa_p2[0] + pa_p2[1]*(mdates.date2num(pa_date_range) - 1970 * 365))\n",
    "pa_fit_df = pd.DataFrame(pa_fit_detrended, columns=['xco2'])\n",
    "pa_fit_df.set_index(pa_date_range, inplace=True)"
   ]
  },
  {
   "cell_type": "code",
   "execution_count": null,
   "id": "077f44d1-0952-45a3-90fd-163a88354c6c",
   "metadata": {},
   "outputs": [],
   "source": [
    "# Find the mean seasonal cycle for each method\n",
    "rolling_sc = pa_yr30\n",
    "stl_sc = pa_res.seasonal.groupby(pa_res.seasonal.index.dayofyear).mean()\n",
    "harmonic_sc = pa_fit_df.groupby(pa_fit_df.index.dayofyear).mean()"
   ]
  },
  {
   "cell_type": "code",
   "execution_count": null,
   "id": "b4b9e01c-0318-4aea-9c2a-19ba9403645a",
   "metadata": {},
   "outputs": [],
   "source": [
    "# Plot mean seasonal cycle for all three methods\n",
    "plt.plot(rolling_sc.dayofyear, rolling_sc, label='Rolling Average')\n",
    "plt.plot(stl_sc.index, stl_sc, label='STL')\n",
    "plt.plot(harmonic_sc.index, harmonic_sc, label='Harmonic Fit')\n",
    "plt.legend()\n",
    "plt.grid()\n",
    "plt.show()"
   ]
  },
  {
   "cell_type": "code",
   "execution_count": null,
   "id": "546a9600-63a3-4ae7-a0d2-b82518850bf2",
   "metadata": {},
   "outputs": [],
   "source": [
    "# Find and compare the seasonal cycle amplitudes\n",
    "print('Rolling Average SCA: %f ppm' % (rolling_sc.max() - rolling_sc.min()))\n",
    "print('STL SCA: %f ppm' % (stl_sc.max() - stl_sc.min()))\n",
    "print('Harmonic Fit SCA: %f ppm' % (harmonic_sc.max() - harmonic_sc.min()).values.item())"
   ]
  }
 ],
 "metadata": {
  "kernelspec": {
   "display_name": "Python 3 (ipykernel)",
   "language": "python",
   "name": "python3"
  },
  "language_info": {
   "codemirror_mode": {
    "name": "ipython",
    "version": 3
   },
   "file_extension": ".py",
   "mimetype": "text/x-python",
   "name": "python",
   "nbconvert_exporter": "python",
   "pygments_lexer": "ipython3",
   "version": "3.13.2"
  }
 },
 "nbformat": 4,
 "nbformat_minor": 5
}
